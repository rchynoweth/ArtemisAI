{
 "cells": [
  {
   "cell_type": "code",
   "execution_count": 0,
   "metadata": {
    "application/vnd.databricks.v1+cell": {
     "cellMetadata": {
      "byteLimit": 2048000,
      "rowLimit": 10000
     },
     "inputWidgets": {},
     "nuid": "0b975075-169c-4984-9273-35c29f3d94f4",
     "showTitle": false,
     "tableResultSettingsMap": {},
     "title": ""
    }
   },
   "outputs": [],
   "source": [
    "from pyspark.sql.functions import *\n",
    "from prophet import Prophet\n",
    "import pandas as pd\n",
    "\n",
    "from sklearn.metrics import mean_absolute_error, mean_squared_error\n"
   ]
  },
  {
   "cell_type": "code",
   "execution_count": 0,
   "metadata": {
    "application/vnd.databricks.v1+cell": {
     "cellMetadata": {
      "byteLimit": 2048000,
      "rowLimit": 10000
     },
     "inputWidgets": {},
     "nuid": "8109d3c1-024a-43a8-a08c-26df4b00155c",
     "showTitle": false,
     "tableResultSettingsMap": {},
     "title": ""
    }
   },
   "outputs": [],
   "source": [
    "schema_name = 'artemis'\n",
    "spark.sql(f\"use {schema_name}\")"
   ]
  },
  {
   "cell_type": "code",
   "execution_count": 0,
   "metadata": {
    "application/vnd.databricks.v1+cell": {
     "cellMetadata": {
      "byteLimit": 2048000,
      "rowLimit": 10000
     },
     "inputWidgets": {},
     "nuid": "df15cd8e-b3f9-4291-b9ad-7f452e447da4",
     "showTitle": false,
     "tableResultSettingsMap": {},
     "title": ""
    }
   },
   "outputs": [],
   "source": [
    "df = spark.sql(\n",
    "    f\"\"\"\n",
    "               select \n",
    "                time as ds\n",
    "                , miner_id\n",
    "                , kwh as y\n",
    "               from {schema_name}.training_data\n",
    "               \"\"\"\n",
    ")\n",
    "display(df)"
   ]
  },
  {
   "cell_type": "code",
   "execution_count": 0,
   "metadata": {
    "application/vnd.databricks.v1+cell": {
     "cellMetadata": {
      "byteLimit": 2048000,
      "rowLimit": 10000
     },
     "inputWidgets": {},
     "nuid": "4b7cb341-91d3-4040-aa98-9dfb6c4d9a62",
     "showTitle": false,
     "tableResultSettingsMap": {},
     "title": ""
    }
   },
   "outputs": [],
   "source": [
    "df = (df\n",
    "    .drop('mac', 'serial', 'name', 'client_id', 'client_name', 'pickaxe_id', 'group_id', 'rack_id', 'hashing_uptime_low', 'hashing_uptime_normal', 'hashing_uptime_high')\n",
    ")\n",
    "display(df)"
   ]
  },
  {
   "cell_type": "code",
   "execution_count": 0,
   "metadata": {
    "application/vnd.databricks.v1+cell": {
     "cellMetadata": {
      "byteLimit": 2048000,
      "rowLimit": 10000
     },
     "inputWidgets": {},
     "nuid": "6af84f03-a8c1-44fd-89ea-1c3fbdfcb576",
     "showTitle": false,
     "tableResultSettingsMap": {},
     "title": ""
    }
   },
   "outputs": [],
   "source": [
    "interval_width = 0.8\n",
    "forecast_frequency = 'H'\n",
    "forecast_periods = 24\n",
    "include_history = True\n",
    "freq = 'H'"
   ]
  },
  {
   "cell_type": "code",
   "execution_count": 0,
   "metadata": {
    "application/vnd.databricks.v1+cell": {
     "cellMetadata": {
      "byteLimit": 2048000,
      "rowLimit": 10000
     },
     "inputWidgets": {},
     "nuid": "06424626-7fac-4002-9292-942fc1f14550",
     "showTitle": false,
     "tableResultSettingsMap": {},
     "title": ""
    }
   },
   "outputs": [],
   "source": [
    "# single miner forecast\n",
    "pdf = (df.filter(col('miner_id')==10796964)\n",
    "       .filter(col('ds')<'2025-03-31T10:00:00.000+00:00')\n",
    "       .filter(col('ds')>'2025-03-28')\n",
    "       .toPandas()\n",
    ")\n",
    "model = Prophet(interval_width=interval_width, changepoint_prior_scale=0.90)\n",
    "model.fit(pdf)\n",
    "future = model.make_future_dataframe(periods=8, freq=freq)\n",
    "fcst = model.predict(future)\n",
    "fig = model.plot(fcst)"
   ]
  },
  {
   "cell_type": "code",
   "execution_count": 0,
   "metadata": {
    "application/vnd.databricks.v1+cell": {
     "cellMetadata": {
      "byteLimit": 2048000,
      "rowLimit": 10000
     },
     "inputWidgets": {},
     "nuid": "285c1bc2-020c-4f5a-b58b-efeeb32b9474",
     "showTitle": false,
     "tableResultSettingsMap": {},
     "title": ""
    }
   },
   "outputs": [],
   "source": [
    "# single miner forecast\n",
    "pdf = (df.filter(col('miner_id')==10442585)\n",
    "       .filter(col('ds')<'2025-03-30T19:00:00.000+00:00')\n",
    "       .filter(col('ds')>'2025-03-27')\n",
    "       .toPandas()\n",
    ")\n",
    "model = Prophet(interval_width=interval_width, changepoint_prior_scale=0.85, seasonality_mode='multiplicative')\n",
    "model.fit(pdf)\n",
    "future = model.make_future_dataframe(periods=8, freq=freq)\n",
    "fcst = model.predict(future)\n",
    "fig = model.plot(fcst)"
   ]
  },
  {
   "cell_type": "code",
   "execution_count": 0,
   "metadata": {
    "application/vnd.databricks.v1+cell": {
     "cellMetadata": {
      "byteLimit": 2048000,
      "rowLimit": 10000
     },
     "inputWidgets": {},
     "nuid": "56066e15-51df-4d60-b8b5-f17f69790494",
     "showTitle": false,
     "tableResultSettingsMap": {},
     "title": ""
    }
   },
   "outputs": [],
   "source": [
    "fcst = fcst.merge(pdf[['ds', 'y']], on='ds', how='left')\n",
    "display(fcst)"
   ]
  },
  {
   "cell_type": "code",
   "execution_count": 0,
   "metadata": {
    "application/vnd.databricks.v1+cell": {
     "cellMetadata": {
      "byteLimit": 2048000,
      "rowLimit": 10000
     },
     "inputWidgets": {},
     "nuid": "4f8b46c8-22bc-46c5-b269-15dbce0f7617",
     "showTitle": false,
     "tableResultSettingsMap": {},
     "title": ""
    }
   },
   "outputs": [],
   "source": [
    "y_true = fcst.dropna()[['y']]\n",
    "y_pred = fcst.dropna()[['yhat']]\n",
    "\n",
    "rmse = mean_squared_error(y_true, y_pred, squared=False)\n",
    "rmse\n"
   ]
  },
  {
   "cell_type": "code",
   "execution_count": 0,
   "metadata": {
    "application/vnd.databricks.v1+cell": {
     "cellMetadata": {
      "byteLimit": 2048000,
      "rowLimit": 10000
     },
     "inputWidgets": {},
     "nuid": "4dd31df8-618a-483b-9ce0-532d67307012",
     "showTitle": false,
     "tableResultSettingsMap": {},
     "title": ""
    }
   },
   "outputs": [],
   "source": [
    "# # remove missing values (more likely at day-store-item level)\n",
    "# history_pd = history_pd.dropna()\n",
    "\n",
    "# extra_cols = [col for col in history_pd.columns if col not in ['ds', 'y']]\n",
    "\n",
    "# # train and configure the model\n",
    "# model = Prophet( interval_width=interval_width )\n",
    "# model.fit( history_pd )\n",
    "\n",
    "# # make predictions\n",
    "# future_pd = model.make_future_dataframe(\n",
    "#     periods=forecast_periods, \n",
    "#     freq=forecast_frequency, \n",
    "#     include_history=include_history\n",
    "# )\n",
    "# forecast_pd = model.predict( future_pd )\n",
    "# forecast_pd = pd.merge(forecast_pd, history_pd[['ds','y']], on='ds', how='left')\n",
    "\n",
    "\n",
    "# # forecast_pd['y'] = history_pd['y']\n",
    "\n",
    "# for c in extra_cols:\n",
    "#     forecast_pd[c] = history_pd[c]\n",
    "\n",
    "# output_spark_df = (spark.createDataFrame(forecast_pd)\n",
    "#     .withColumn(\"yhat_lower\", greatest(col(\"yhat_lower\"), lit(0)))\n",
    "#     .withColumn(\"yhat_upper\", greatest(col(\"yhat_upper\"), lit(0)))\n",
    "#     .withColumn(\"YearMonth\", date_format(col(\"ds\"), \"yyyy-MM\"))\n",
    "\n",
    "# )\n",
    "\n",
    "# display(output_spark_df)"
   ]
  }
 ],
 "metadata": {
  "application/vnd.databricks.v1+notebook": {
   "computePreferences": null,
   "dashboards": [],
   "environmentMetadata": {
    "base_environment": "",
    "environment_version": "2"
   },
   "inputWidgetPreferences": null,
   "language": "python",
   "notebookMetadata": {
    "pythonIndentUnit": 4
   },
   "notebookName": "zz_EDA_Forecast_Power_Usage",
   "widgets": {}
  },
  "language_info": {
   "name": "python"
  }
 },
 "nbformat": 4,
 "nbformat_minor": 0
}
