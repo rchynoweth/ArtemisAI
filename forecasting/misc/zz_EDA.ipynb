{
 "cells": [
  {
   "cell_type": "code",
   "execution_count": 0,
   "metadata": {
    "application/vnd.databricks.v1+cell": {
     "cellMetadata": {
      "byteLimit": 2048000,
      "rowLimit": 10000
     },
     "inputWidgets": {},
     "nuid": "8667fd66-347f-4679-9a38-31ae75daa5dd",
     "showTitle": false,
     "tableResultSettingsMap": {},
     "title": ""
    }
   },
   "outputs": [],
   "source": [
    "\n",
    "import  mlflow\n",
    "from pyspark.sql.functions import *\n",
    "import pandas as pd\n",
    "\n",
    "\n",
    "experiment_name = '/Users/rchynoweth@invisocorp.com/Artemis/02_Forecast_Power_Usage_v3'\n",
    "experiment = mlflow.get_experiment_by_name(experiment_name)\n",
    "experiment_id = experiment.experiment_id\n",
    "\n",
    "# Search for all runs\n",
    "runs_df = mlflow.search_runs(\n",
    "    experiment_ids=[experiment_id],\n",
    "    filter_string=\"attributes.status = 'FINISHED'\",\n",
    "    output_format=\"pandas\"\n",
    ")"
   ]
  },
  {
   "cell_type": "code",
   "execution_count": 0,
   "metadata": {
    "application/vnd.databricks.v1+cell": {
     "cellMetadata": {
      "byteLimit": 2048000,
      "rowLimit": 10000
     },
     "inputWidgets": {},
     "nuid": "0f77db0f-4e0b-4c54-a67b-5e0ed4370501",
     "showTitle": false,
     "tableResultSettingsMap": {},
     "title": ""
    }
   },
   "outputs": [],
   "source": [
    "display(runs_df)"
   ]
  },
  {
   "cell_type": "code",
   "execution_count": 0,
   "metadata": {
    "application/vnd.databricks.v1+cell": {
     "cellMetadata": {
      "byteLimit": 2048000,
      "rowLimit": 10000
     },
     "inputWidgets": {},
     "nuid": "8806264d-3535-4cf3-9171-c78a88847fb1",
     "showTitle": false,
     "tableResultSettingsMap": {
      "0": {
       "dataGridStateBlob": null,
       "filterBlob": "{\"filterGroups\":[{\"enabled\":true,\"op\":\"OR\",\"filterGroupId\":\"fg_4d0e7cdf\",\"filters\":[{\"filterId\":\"f_cee13f70\",\"columnId\":\"avg_rmse\",\"enabled\":true,\"dataType\":\"float\",\"filterType\":\"eqn\",\"filterValue\":0,\"filterValues\":[],\"filterConfig\":{\"caseSensitive\":false,\"includeMax\":true,\"includeMin\":true}}],\"local\":false,\"updatedAt\":1746468151414}],\"syncTimestamp\":1746468151421}",
       "queryPlanFiltersBlob": "[{\"kind\":\"call\",\"function\":\"or\",\"args\":[{\"kind\":\"call\",\"function\":\"not\",\"args\":[{\"kind\":\"call\",\"function\":\"in\",\"args\":[{\"kind\":\"identifier\",\"identifier\":\"avg_rmse\"},{\"kind\":\"literal\",\"value\":0,\"type\":\"float\"}]}]}]}]",
       "tableResultIndex": 0
      }
     },
     "title": ""
    }
   },
   "outputs": [],
   "source": [
    "summary = (runs_df[runs_df['start_time'] > '2025-05-04']\n",
    "           .groupby(['params.changepoint_prior_scale', 'params.seasonality_mode'])\n",
    "           .agg(\n",
    "               avg_rmse=('metrics.rmse', 'mean'),\n",
    "               std_rmse=('metrics.rmse', 'std'),\n",
    "               min_rmse=('metrics.rmse', 'min'),\n",
    "               max_rmse=('metrics.rmse', 'max'),\n",
    "               count=('metrics.rmse', 'count'),\n",
    "               avg_4_rmse=('metrics.rmse_first_four', 'mean'),\n",
    "               std_4_rmse=('metrics.rmse_first_four', 'std'),\n",
    "               min_4_rmse=('metrics.rmse_first_four', 'min'),\n",
    "               max_4_rmse=('metrics.rmse_first_four', 'max')\n",
    "           )\n",
    "           .reset_index()\n",
    "           .sort_values('avg_rmse')\n",
    ")\n",
    "\n",
    "display(summary)"
   ]
  },
  {
   "cell_type": "code",
   "execution_count": 0,
   "metadata": {
    "application/vnd.databricks.v1+cell": {
     "cellMetadata": {},
     "inputWidgets": {},
     "nuid": "268837e7-99cf-4721-bee6-16a712dde2b2",
     "showTitle": false,
     "tableResultSettingsMap": {},
     "title": ""
    }
   },
   "outputs": [],
   "source": [
    "summary = (runs_df[runs_df['start_time'] > '2025-05-04']\n",
    "           .groupby(['params.changepoint_prior_scale', 'params.seasonality_mode'])\n",
    "           .agg(\n",
    "               avg_rmse=('metrics.rmse', 'mean'),\n",
    "               std_rmse=('metrics.rmse', 'std'),\n",
    "               min_rmse=('metrics.rmse', 'min'),\n",
    "               max_rmse=('metrics.rmse', 'max'),\n",
    "               count=('metrics.rmse', 'count'),\n",
    "               avg_4_rmse=('metrics.rmse_first_four', 'mean'),\n",
    "               std_4_rmse=('metrics.rmse_first_four', 'std'),\n",
    "               min_4_rmse=('metrics.rmse_first_four', 'min'),\n",
    "               max_4_rmse=('metrics.rmse_first_four', 'max'),\n",
    "               avg_acc=('metrics.accuracy', 'mean'),\n",
    "               std_acc=('metrics.accuracy', 'std'),\n",
    "               min_acc=('metrics.accuracy', 'min'),\n",
    "               max_acc=('metrics.accuracy', 'max'),\n",
    "           )\n",
    "           .reset_index()\n",
    "           .sort_values('avg_rmse')\n",
    ")\n",
    "\n",
    "display(summary)"
   ]
  },
  {
   "cell_type": "code",
   "execution_count": 0,
   "metadata": {
    "application/vnd.databricks.v1+cell": {
     "cellMetadata": {
      "byteLimit": 2048000,
      "rowLimit": 10000
     },
     "inputWidgets": {},
     "nuid": "a65598cf-f979-4f55-ade0-44edb067bd31",
     "showTitle": false,
     "tableResultSettingsMap": {},
     "title": ""
    }
   },
   "outputs": [],
   "source": [
    "distinct_miner_count = spark.sql(\"SELECT COUNT(DISTINCT miner_id) AS distinct_miner_count FROM artemis.miner_data\")\n",
    "display(distinct_miner_count)"
   ]
  },
  {
   "cell_type": "code",
   "execution_count": 0,
   "metadata": {
    "application/vnd.databricks.v1+cell": {
     "cellMetadata": {
      "byteLimit": 2048000,
      "rowLimit": 10000
     },
     "inputWidgets": {},
     "nuid": "f373c291-b034-43c2-aa8e-148530d32e5b",
     "showTitle": false,
     "tableResultSettingsMap": {},
     "title": ""
    }
   },
   "outputs": [],
   "source": [
    "runs_df.count()"
   ]
  },
  {
   "cell_type": "code",
   "execution_count": 0,
   "metadata": {
    "application/vnd.databricks.v1+cell": {
     "cellMetadata": {
      "byteLimit": 2048000,
      "rowLimit": 10000
     },
     "inputWidgets": {},
     "nuid": "6937deb3-4ddf-40a5-97d9-46e6f819ae70",
     "showTitle": false,
     "tableResultSettingsMap": {},
     "title": ""
    }
   },
   "outputs": [],
   "source": []
  }
 ],
 "metadata": {
  "application/vnd.databricks.v1+notebook": {
   "computePreferences": null,
   "dashboards": [],
   "environmentMetadata": {
    "base_environment": "",
    "environment_version": "2"
   },
   "inputWidgetPreferences": null,
   "language": "python",
   "notebookMetadata": {
    "pythonIndentUnit": 4
   },
   "notebookName": "zz_EDA",
   "widgets": {}
  },
  "language_info": {
   "name": "python"
  }
 },
 "nbformat": 4,
 "nbformat_minor": 0
}
