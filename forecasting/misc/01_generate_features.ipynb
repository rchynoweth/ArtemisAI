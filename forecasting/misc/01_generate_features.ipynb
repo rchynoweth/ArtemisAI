{
 "cells": [
  {
   "cell_type": "code",
   "execution_count": 0,
   "metadata": {
    "application/vnd.databricks.v1+cell": {
     "cellMetadata": {
      "byteLimit": 2048000,
      "rowLimit": 10000
     },
     "inputWidgets": {},
     "nuid": "21beb473-3494-488f-90b4-e21656486475",
     "showTitle": false,
     "tableResultSettingsMap": {},
     "title": ""
    }
   },
   "outputs": [],
   "source": [
    "from pyspark.ml.feature import StringIndexer, OneHotEncoder\n",
    "\n",
    "from pyspark.sql import functions as F\n",
    "from pyspark.sql.window import Window"
   ]
  },
  {
   "cell_type": "code",
   "execution_count": 0,
   "metadata": {
    "application/vnd.databricks.v1+cell": {
     "cellMetadata": {
      "byteLimit": 2048000,
      "rowLimit": 10000
     },
     "inputWidgets": {},
     "nuid": "b63acc61-eb24-4bca-bed8-f733fa3c72c2",
     "showTitle": false,
     "tableResultSettingsMap": {},
     "title": ""
    }
   },
   "outputs": [],
   "source": [
    "schema_name = 'artemis'"
   ]
  },
  {
   "cell_type": "code",
   "execution_count": 0,
   "metadata": {
    "application/vnd.databricks.v1+cell": {
     "cellMetadata": {
      "byteLimit": 2048000,
      "rowLimit": 10000
     },
     "inputWidgets": {},
     "nuid": "d793c36e-07ef-4606-b120-eaad755288a6",
     "showTitle": false,
     "tableResultSettingsMap": {},
     "title": ""
    }
   },
   "outputs": [],
   "source": [
    "spark.sql(f\"use {schema_name}\")"
   ]
  },
  {
   "cell_type": "code",
   "execution_count": 0,
   "metadata": {
    "application/vnd.databricks.v1+cell": {
     "cellMetadata": {
      "byteLimit": 2048000,
      "rowLimit": 10000
     },
     "inputWidgets": {},
     "nuid": "23935299-f2f2-4d90-bd3f-589409698666",
     "showTitle": false,
     "tableResultSettingsMap": {},
     "title": ""
    }
   },
   "outputs": [],
   "source": [
    "display(\n",
    "    spark.sql(f'select * from {schema_name}.training_data where kwh > 4.6')\n",
    ")"
   ]
  },
  {
   "cell_type": "code",
   "execution_count": 0,
   "metadata": {
    "application/vnd.databricks.v1+cell": {
     "cellMetadata": {},
     "inputWidgets": {},
     "nuid": "4bad8c7c-26cd-4c9f-8e38-84701859863e",
     "showTitle": false,
     "tableResultSettingsMap": {},
     "title": ""
    }
   },
   "outputs": [],
   "source": [
    "df = (\n",
    "    spark\n",
    "    .read\n",
    "    .table(f'{schema_name}.training_data')\n",
    "    .drop('mac', 'serial', 'name', 'client_id', 'client_name', 'pickaxe_id', 'group_id', 'rack_id', 'hashing_uptime_low', 'hashing_uptime_normal', 'hashing_uptime_high')\n",
    ").dropna()\n",
    "display(df)"
   ]
  },
  {
   "cell_type": "code",
   "execution_count": 0,
   "metadata": {
    "application/vnd.databricks.v1+cell": {
     "cellMetadata": {
      "byteLimit": 2048000,
      "rowLimit": 10000
     },
     "inputWidgets": {},
     "nuid": "b2b9f883-7b3c-47cb-a994-29383cbac075",
     "showTitle": false,
     "tableResultSettingsMap": {},
     "title": ""
    }
   },
   "outputs": [],
   "source": [
    "min_date = df.agg({\"time\": \"min\"}).collect()[0][0]\n",
    "max_date = df.agg({\"time\": \"max\"}).collect()[0][0]\n",
    "print(f\"{min_date} | {max_date}\")"
   ]
  },
  {
   "cell_type": "code",
   "execution_count": 0,
   "metadata": {
    "application/vnd.databricks.v1+cell": {
     "cellMetadata": {
      "byteLimit": 2048000,
      "rowLimit": 10000
     },
     "inputWidgets": {},
     "nuid": "a82d9d93-e37c-4701-8341-dd6d8f2314ae",
     "showTitle": false,
     "tableResultSettingsMap": {},
     "title": ""
    }
   },
   "outputs": [],
   "source": [
    "train_df = df.filter(df.time <= '2025-04-01')\n",
    "val_df = df.filter(df.time > '2025-04-01')\n",
    "display(train_df)"
   ]
  },
  {
   "cell_type": "code",
   "execution_count": 0,
   "metadata": {
    "application/vnd.databricks.v1+cell": {
     "cellMetadata": {
      "byteLimit": 2048000,
      "rowLimit": 10000
     },
     "inputWidgets": {},
     "nuid": "b512f7c8-1431-4e71-9d25-9eebfcdb143d",
     "showTitle": false,
     "tableResultSettingsMap": {},
     "title": ""
    }
   },
   "outputs": [],
   "source": [
    "# Indexing categorical variables\n",
    "indexer = StringIndexer(\n",
    "    inputCols=[\"type\", \"row\", \"index\"],\n",
    "    outputCols=[\"type_index\", \"row_index\", \"index_index\"]\n",
    ")\n",
    "feature_table = indexer.fit(train_df).transform(train_df)\n",
    "\n",
    "# One-hot encoding for categorical variables\n",
    "encoder = OneHotEncoder(\n",
    "    inputCols=[\"type_index\", \"row_index\", \"index_index\"],\n",
    "    outputCols=[\"type_ohe\", \"row_ohe\", \"index_ohe\"]\n",
    ")\n",
    "ohe_model = encoder.fit(feature_table)\n",
    "\n",
    "cat_df = ohe_model.transform(feature_table)\n",
    "\n",
    "display(cat_df)"
   ]
  },
  {
   "cell_type": "code",
   "execution_count": 0,
   "metadata": {
    "application/vnd.databricks.v1+cell": {
     "cellMetadata": {
      "byteLimit": 2048000,
      "rowLimit": 10000
     },
     "inputWidgets": {},
     "nuid": "b1d2d3a7-654f-4166-bec7-82114814948d",
     "showTitle": false,
     "tableResultSettingsMap": {},
     "title": ""
    }
   },
   "outputs": [],
   "source": [
    "# Define the window specification\n",
    "window_spec = Window.partitionBy(\"miner_id\").orderBy(\"time\")"
   ]
  },
  {
   "cell_type": "code",
   "execution_count": 0,
   "metadata": {
    "application/vnd.databricks.v1+cell": {
     "cellMetadata": {
      "byteLimit": 2048000,
      "rowLimit": 10000
     },
     "inputWidgets": {},
     "nuid": "520639a5-00df-4ec6-a527-b3df00cdca5c",
     "showTitle": false,
     "tableResultSettingsMap": {},
     "title": ""
    }
   },
   "outputs": [],
   "source": [
    "# Handle NULL values by filling them with a default value (e.g., 0)\n",
    "cat_df = cat_df.na.fill({\"kwh\": 0, \"hash_rate\": 0})\n",
    "\n",
    "# Calculate trailing averages for the specified time windows\n",
    "trailing_trends_df = (\n",
    "    cat_df\n",
    "    .withColumn(\"kwh_avg_3h\", F.avg(\"kwh\").over(window_spec.rowsBetween(-3*60, 0)))\n",
    "    .withColumn(\"kwh_avg_6h\", F.avg(\"kwh\").over(window_spec.rowsBetween(-6*60, 0)))\n",
    "    .withColumn(\"kwh_avg_9h\", F.avg(\"kwh\").over(window_spec.rowsBetween(-9*60, 0)))\n",
    "    .withColumn(\"kwh_avg_12h\", F.avg(\"kwh\").over(window_spec.rowsBetween(-12*60, 0)))\n",
    "    .withColumn(\"kwh_avg_24h\", F.avg(\"kwh\").over(window_spec.rowsBetween(-24*60, 0)))\n",
    "    .withColumn(\"hash_rate_avg_3h\", F.avg(\"hash_rate\").over(window_spec.rowsBetween(-3*60, 0)))\n",
    "    .withColumn(\"hash_rate_avg_6h\", F.avg(\"hash_rate\").over(window_spec.rowsBetween(-6*60, 0)))\n",
    "    .withColumn(\"hash_rate_avg_9h\", F.avg(\"hash_rate\").over(window_spec.rowsBetween(-9*60, 0)))\n",
    "    .withColumn(\"hash_rate_avg_12h\", F.avg(\"hash_rate\").over(window_spec.rowsBetween(-12*60, 0)))\n",
    "    .withColumn(\"hash_rate_avg_24h\", F.avg(\"hash_rate\").over(window_spec.rowsBetween(-24*60, 0)))\n",
    ")\n",
    "\n",
    "display(trailing_trends_df)"
   ]
  },
  {
   "cell_type": "code",
   "execution_count": 0,
   "metadata": {
    "application/vnd.databricks.v1+cell": {
     "cellMetadata": {
      "byteLimit": 2048000,
      "rowLimit": 10000
     },
     "inputWidgets": {},
     "nuid": "e0d66fb5-ed3b-4c4d-86fe-6ee4b7664abf",
     "showTitle": false,
     "tableResultSettingsMap": {
      "0": {
       "dataGridStateBlob": null,
       "filterBlob": "{\"filterGroups\":[],\"syncTimestamp\":1745016518944}",
       "queryPlanFiltersBlob": null,
       "tableResultIndex": 0
      }
     },
     "title": ""
    }
   },
   "outputs": [],
   "source": [
    "# Create a label column based on the condition\n",
    "labeled_trends_df = (\n",
    "    trailing_trends_df\n",
    "    .withColumn(\"label\", F.when(F.avg(\"kwh\").over(window_spec.rowsBetween(0, 4*60)) >= 4.6, True).otherwise(False))\n",
    ")\n",
    "\n",
    "display(labeled_trends_df)"
   ]
  }
 ],
 "metadata": {
  "application/vnd.databricks.v1+notebook": {
   "computePreferences": null,
   "dashboards": [],
   "environmentMetadata": {
    "base_environment": "",
    "environment_version": "2"
   },
   "inputWidgetPreferences": null,
   "language": "python",
   "notebookMetadata": {
    "pythonIndentUnit": 4
   },
   "notebookName": "01_generate_features",
   "widgets": {}
  },
  "language_info": {
   "name": "python"
  }
 },
 "nbformat": 4,
 "nbformat_minor": 0
}
